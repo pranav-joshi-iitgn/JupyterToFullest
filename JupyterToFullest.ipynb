{
 "cells": [
  {
   "cell_type": "code",
   "execution_count": 1,
   "metadata": {},
   "outputs": [
    {
     "name": "stdout",
     "output_type": "stream",
     "text": [
      "Defaulting to user installation because normal site-packages is not writeable\n",
      "Requirement already satisfied: graphviz in /home/hp/.local/lib/python3.10/site-packages (0.20.1)\n"
     ]
    }
   ],
   "source": [
    "! pip install graphviz"
   ]
  },
  {
   "cell_type": "code",
   "execution_count": 2,
   "metadata": {},
   "outputs": [],
   "source": [
    "from graphviz import Digraph\n",
    "import graphviz as graph"
   ]
  },
  {
   "cell_type": "markdown",
   "metadata": {},
   "source": [
    "$$ \n",
    "\\pi r^2 + 2 at = sat \\\\\n",
    "\\pi r^2\n",
    "$$"
   ]
  },
  {
   "cell_type": "code",
   "execution_count": 13,
   "metadata": {},
   "outputs": [
    {
     "data": {
      "text/plain": [
       "'graph.png'"
      ]
     },
     "execution_count": 13,
     "metadata": {},
     "output_type": "execute_result"
    }
   ],
   "source": [
    "g = Digraph()\n",
    "g.node(\"1\",\"1\",shape=\"square\",width=\"0.1\")\n",
    "for i in range(2,10):\n",
    "    g.node(str(i),str(i),height=\"0.01\")\n",
    "    g.edge(str(i),str(i-1),\"weight\")\n",
    "graph.size = \"2\"\n",
    "g.render(\"graph\",format='png')"
   ]
  },
  {
   "cell_type": "markdown",
   "metadata": {},
   "source": [
    "<img src=\"graph.png\" width=\"100\" height = \"500\">"
   ]
  },
  {
   "cell_type": "code",
   "execution_count": 4,
   "metadata": {},
   "outputs": [],
   "source": [
    "from matplotlib.pyplot import *\n",
    "from numpy import *\n",
    "from PIL import Image"
   ]
  },
  {
   "cell_type": "code",
   "execution_count": 5,
   "metadata": {},
   "outputs": [
    {
     "data": {
      "image/png": "[encoded data removed]",
      "text/plain": [
       "<Figure size 640x480 with 1 Axes>"
      ]
     },
     "metadata": {},
     "output_type": "display_data"
    }
   ],
   "source": [
    "c = 2\n",
    "t = 0\n",
    "dt = 0.1\n",
    "x = linspace(0,10,100)\n",
    "Frames = []\n",
    "fig = figure()\n",
    "ax = fig.add_subplot()\n",
    "for n in range(50):\n",
    "    y = sin(x-c*t)\n",
    "    ax.clear()\n",
    "    ax.plot(x,y)\n",
    "    draw()\n",
    "    im = Image.frombytes('RGB', fig.canvas.get_width_height(),fig.canvas.tostring_rgb())\n",
    "    Frames.append(im)\n",
    "    t += dt\n",
    "Frame_one = Frames[0]\n",
    "Frame_one.save(\"sine.gif\", format=\"GIF\", append_images=Frames,save_all=True, duration=t, loop=0)"
   ]
  },
  {
   "cell_type": "code",
   "execution_count": 6,
   "metadata": {
    "vscode": {
     "languageId": "html"
    }
   },
   "outputs": [
    {
     "data": {
      "text/html": [
       "<img src=\"sine.gif\">\n"
      ],
      "text/plain": [
       "<IPython.core.display.HTML object>"
      ]
     },
     "metadata": {},
     "output_type": "display_data"
    }
   ],
   "source": [
    "%%HTML\n",
    "<img src=\"sine.gif\">"
   ]
  },
  {
   "cell_type": "code",
   "execution_count": 7,
   "metadata": {},
   "outputs": [],
   "source": [
    "from ipywidgets.widgets import *"
   ]
  },
  {
   "cell_type": "code",
   "execution_count": 8,
   "metadata": {},
   "outputs": [
    {
     "data": {
      "application/vnd.jupyter.widget-view+json": {
       "model_id": "a99b789d04e14ad88b4f2bb3b848210d",
       "version_major": 2,
       "version_minor": 0
      },
      "text/plain": [
       "Text(value='0')"
      ]
     },
     "metadata": {},
     "output_type": "display_data"
    },
    {
     "data": {
      "application/vnd.jupyter.widget-view+json": {
       "model_id": "332c4051606e45769fb44cf1872f8112",
       "version_major": 2,
       "version_minor": 0
      },
      "text/plain": [
       "Text(value='0')"
      ]
     },
     "metadata": {},
     "output_type": "display_data"
    },
    {
     "data": {
      "application/vnd.jupyter.widget-view+json": {
       "model_id": "325294f4d9c54d45bce79d7a0808dcd1",
       "version_major": 2,
       "version_minor": 0
      },
      "text/plain": [
       "Button(description='Add', style=ButtonStyle())"
      ]
     },
     "metadata": {},
     "output_type": "display_data"
    },
    {
     "data": {
      "application/vnd.jupyter.widget-view+json": {
       "model_id": "9bf1817140ab442f8a8a1d4e4a84198b",
       "version_major": 2,
       "version_minor": 0
      },
      "text/plain": [
       "Label(value='')"
      ]
     },
     "metadata": {},
     "output_type": "display_data"
    }
   ],
   "source": [
    "btn = Button()\n",
    "btn.description = \"Add\"\n",
    "l = Label()\n",
    "t1 = Text()\n",
    "t1.value = \"0\"\n",
    "t2 = Text()\n",
    "t2.value = \"0\"\n",
    "def p(event):\n",
    "    n1 = int(t1.value)\n",
    "    n2 = int(t2.value)\n",
    "    l.value = f\"{n1+n2}\"\n",
    "btn.on_click(p)\n",
    "display(t1,t2,btn,l)"
   ]
  },
  {
   "cell_type": "code",
   "execution_count": 9,
   "metadata": {
    "vscode": {
     "languageId": "latex"
    }
   },
   "outputs": [
    {
     "data": {
      "text/latex": [
       "Hi.\n",
       "$$ \\pi r^2 + 2 r = \\theta \\sum_{n=0}^{50} x \\\\\n",
       "\\LaTeX \\\\\n",
       "F\n",
       "$$\n",
       "gjhghk\n",
       "hh \\\n",
       "gjhg\n",
       "$ ok $\n"
      ],
      "text/plain": [
       "<IPython.core.display.Latex object>"
      ]
     },
     "metadata": {},
     "output_type": "display_data"
    }
   ],
   "source": [
    "%%latex\n",
    "Hi.\n",
    "$$ \\pi r^2 + 2 r = \\theta \\sum_{n=0}^{50} x \\\\\n",
    "\\LaTeX \\\\\n",
    "F\n",
    "$$\n",
    "gjhghk\n",
    "hh \\\n",
    "gjhg\n",
    "$ ok $"
   ]
  },
  {
   "cell_type": "code",
   "execution_count": 10,
   "metadata": {
    "vscode": {
     "languageId": "html"
    }
   },
   "outputs": [
    {
     "data": {
      "text/html": [
       "<html>\n",
       "    <table>\n",
       "        <tr>\n",
       "            <td>Ok<td>\n",
       "            <td>Not ok</td>\n",
       "        </tr>\n",
       "    </table>\n",
       "</html>\n"
      ],
      "text/plain": [
       "<IPython.core.display.HTML object>"
      ]
     },
     "metadata": {},
     "output_type": "display_data"
    }
   ],
   "source": [
    "%%HTML\n",
    "<html>\n",
    "    <table>\n",
    "        <tr>\n",
    "            <td>Ok<td>\n",
    "            <td>Not ok</td>\n",
    "        </tr>\n",
    "    </table>\n",
    "</html>"
   ]
  },
  {
   "cell_type": "code",
   "execution_count": 11,
   "metadata": {
    "vscode": {
     "languageId": "html"
    }
   },
   "outputs": [
    {
     "data": {
      "text/html": [
       "<style>\n",
       "    code{\n",
       "        color: whitesmoke;\n",
       "    }\n",
       "</style>\n"
      ],
      "text/plain": [
       "<IPython.core.display.HTML object>"
      ]
     },
     "metadata": {},
     "output_type": "display_data"
    }
   ],
   "source": [
    "%%HTML\n",
    "<style>\n",
    "    code{\n",
    "        color: whitesmoke;\n",
    "    }\n",
    "</style>"
   ]
  },
  {
   "cell_type": "code",
   "execution_count": 12,
   "metadata": {},
   "outputs": [
    {
     "data": {
      "application/vnd.jupyter.widget-view+json": {
       "model_id": "e9849047de034cf1bab498d4803fd43a",
       "version_major": 2,
       "version_minor": 0
      },
      "text/plain": [
       "Canvas()"
      ]
     },
     "execution_count": 12,
     "metadata": {},
     "output_type": "execute_result"
    }
   ],
   "source": [
    "from numpy import *\n",
    "from ipycanvas import Canvas\n",
    "canvas = Canvas()\n",
    "canvas.line_width=4\n",
    "canvas.stroke_style='green'\n",
    "canvas.move_to(0,0)\n",
    "for i in range(100):\n",
    "    canvas.line_to(i,(i/10)**2)\n",
    "canvas.stroke()\n",
    "canvas.begin_path()\n",
    "for i in range(5):\n",
    "    canvas.move_to(100,100)\n",
    "    canvas.stroke_style=\"red\"\n",
    "    canvas.line_to(100+50*cos(2*pi*i/5),100+50*sin(2*pi*i/5))\n",
    "canvas.stroke()\n",
    "canvas"
   ]
  }
 ],
 "metadata": {
  "kernelspec": {
   "display_name": "Python 3 (ipykernel)",
   "language": "python",
   "name": "python3"
  },
  "language_info": {
   "codemirror_mode": {
    "name": "ipython",
    "version": 3
   },
   "file_extension": ".py",
   "mimetype": "text/x-python",
   "name": "python",
   "nbconvert_exporter": "python",
   "pygments_lexer": "ipython3",
   "version": "3.10.12"
  }
 },
 "nbformat": 4,
 "nbformat_minor": 4
}
